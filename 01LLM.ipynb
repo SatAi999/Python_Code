{
 "cells": [
  {
   "cell_type": "code",
   "execution_count": null,
   "id": "d5e4ac1c-1d3b-42e7-b60a-9be8904ced72",
   "metadata": {},
   "outputs": [],
   "source": [
    "pip install Langchain_Groq\n"
   ]
  },
  {
   "cell_type": "code",
   "execution_count": null,
   "id": "508717a6-9e01-4fbd-91f5-535da513c07b",
   "metadata": {},
   "outputs": [],
   "source": [
    "from langchain_groq import ChatGroq"
   ]
  },
  {
   "cell_type": "code",
   "execution_count": null,
   "id": "4a483d8f-a873-4750-a0b7-d38ff308b307",
   "metadata": {},
   "outputs": [],
   "source": [
    "llm=ChatGroq(\n",
    "    model=\"\",\n",
    "    temperature=0,\n",
    "    groq_api_key=\"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\"\n",
    "    \n",
    ")"
   ]
  },
  {
   "cell_type": "code",
   "execution_count": null,
   "id": "f5d5ddfe-9240-4eff-b4d4-6cd27a507ea5",
   "metadata": {},
   "outputs": [
    {
     "name": "stdout",
     "output_type": "stream",
     "text": [
      "Chat with Groq's LLM! Type 'exit' to quit.\n"
     ]
    },
    {
     "name": "stdin",
     "output_type": "stream",
     "text": [
      "Ask your question:  who is virat\n"
     ]
    },
    {
     "name": "stdout",
     "output_type": "stream",
     "text": [
      "Error: Error code: 404 - {'error': {'message': 'The model `` does not exist or you do not have access to it.', 'type': 'invalid_request_error', 'code': 'model_not_found'}}\n"
     ]
    },
    {
     "name": "stdin",
     "output_type": "stream",
     "text": [
      "Ask your question:  ghhj\n"
     ]
    },
    {
     "name": "stdout",
     "output_type": "stream",
     "text": [
      "Error: Error code: 404 - {'error': {'message': 'The model `` does not exist or you do not have access to it.', 'type': 'invalid_request_error', 'code': 'model_not_found'}}\n"
     ]
    }
   ],
   "source": [
    "def chat_with_groq():\n",
    "    \"\"\"Allows users to ask multiple questions interactively until they exit.\"\"\"\n",
    "    print(\"Chat with Groq's LLM! Type 'exit' to quit.\")\n",
    "    while True:\n",
    "        user_query = input(\"Ask your question: \")\n",
    "        if user_query.lower() == \"exit\":\n",
    "            print(\"Exiting chat. Goodbye!\")\n",
    "            break\n",
    "        try:\n",
    "            response = llm.invoke(user_query)  # ✅ Correct way to call invoke()\n",
    "            print(\"Response:\", response)\n",
    "        except Exception as e:\n",
    "            print(\"Error:\", e)  # Show error message if any issue occurs\n",
    "\n",
    "# Start chat\n",
    "chat_with_groq()"
   ]
  },
  {
   "cell_type": "code",
   "execution_count": null,
   "id": "f4af1af5-cb35-4e88-818a-52523b5f8ce2",
   "metadata": {},
   "outputs": [],
   "source": [
    "import os\n",
    "from langchain_groq import ChatGroq\n",
    "\n",
    "# Initialize model\n",
    "llm = ChatGroq(\n",
    "    model=\"mixtral-8x7b-32768\",\n",
    "    temperature=0,\n",
    "    groq_api_key=\"your_api_key_here\"\n",
    ")\n",
    "\n",
    "# Test Query\n",
    "try:\n",
    "    response = llm.invoke(\"Say 'Hello, world!'\")\n",
    "    print(\"Test Response:\", response)\n",
    "except Exception as e:\n",
    "    print(\"Error:\", e)\n"
   ]
  },
  {
   "cell_type": "code",
   "execution_count": null,
   "id": "0d8110a3-c77c-4e30-bdcf-1cdfe9b4db14",
   "metadata": {},
   "outputs": [],
   "source": []
  }
 ],
 "metadata": {
  "kernelspec": {
   "display_name": "Python 3 (ipykernel)",
   "language": "python",
   "name": "python3"
  },
  "language_info": {
   "codemirror_mode": {
    "name": "ipython",
    "version": 3
   },
   "file_extension": ".py",
   "mimetype": "text/x-python",
   "name": "python",
   "nbconvert_exporter": "python",
   "pygments_lexer": "ipython3",
   "version": "3.9.13"
  }
 },
 "nbformat": 4,
 "nbformat_minor": 5
}
