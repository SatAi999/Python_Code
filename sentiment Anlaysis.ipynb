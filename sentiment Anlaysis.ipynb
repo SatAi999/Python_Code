{
 "cells": [
  {
   "cell_type": "code",
   "execution_count": null,
   "id": "bb30c645-17db-4f31-957a-04d8eca269c4",
   "metadata": {},
   "outputs": [
    {
     "name": "stdout",
     "output_type": "stream",
     "text": [
      "Enter a sentence to analyze the sentiment and receive suggestions (type 'exit' to quit):\n"
     ]
    },
    {
     "name": "stdin",
     "output_type": "stream",
     "text": [
      "Your input:  Nike shoes sales are decreasing but Puma shoes sales are increasing\n"
     ]
    },
    {
     "name": "stdout",
     "output_type": "stream",
     "text": [
      "Result:\n",
      "**Sentiment Detected:** Negative\n",
      "\n",
      "**If Negative:** 😞 \"I hear you! Let’s turn things around with these simple steps...\"\n",
      "\n",
      "* The text you provided focuses on the decrease in Nike shoes sales, which can be perceived as negative.\n",
      "* To provide a more balanced perspective, consider including potential reasons for the decrease and possible solutions.\n",
      "* You could also mention any positive aspects or trends related to Nike, such as their market share, brand recognition, or other successful product lines.\n",
      "\n",
      "**Proper Analysis and Solutions:**\n",
      "\n",
      "* Analyze the reasons for the decrease in Nike shoes sales, such as changes in consumer preferences, increased competition, or marketing strategies.\n",
      "\n"
     ]
    }
   ],
   "source": [
    "from langchain_groq import ChatGroq\n",
    "\n",
    "\n",
    "llm = ChatGroq(\n",
    "    model=\"mixtral-8x7b-32768\",\n",
    "    temperature=0.2,\n",
    "    groq_api_key=\"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\" \n",
    ")\n",
    "\n",
    "\n",
    "def analyze_sentiment_and_suggest(text):\n",
    "    prompt = f\"\"\"\n",
    "    Here's what I'll do for you:\n",
    "- Detect whether your text feels **Positive**, **Negative**, or **Neutral**.\n",
    "- Provide **personalized advice** based on the sentiment.\n",
    "- Help you **boost positivity, overcome negativity, or add more depth** if needed!\n",
    "\n",
    "---\n",
    "### **Your Text:**\n",
    "\n",
    "\"{text}\"  \n",
    "---\n",
    "\n",
    "### **My Analysis & Suggestions**  \n",
    " **Sentiment Detected:** _[Positive / Negative / Neutral]_  \n",
    "\n",
    "\n",
    "- **If Positive:** 🎉 \"Great energy! Here’s how you can keep this momentum going...\"\n",
    "- **If Negative:** 😞 \"I hear you! Let’s turn things around with these simple steps...\"\n",
    "- **If Neutral:** 🤔 \"This could use a little more emotion! How about adding some personal insights?\"\n",
    "\n",
    "Now, let’s dive into your text and see what we can do! \n",
    "Give me proper analysis from the current trend and solutions based on the entered text\n",
    "    \"\"\"\n",
    "    \n",
    "    \n",
    "    response = llm.invoke(prompt, max_tokens=150)\n",
    "    return response.content.strip()\n",
    "\n",
    "\n",
    "def main():\n",
    "    print(\"Enter a sentence to analyze the sentiment and receive suggestions (type 'exit' to quit):\")\n",
    "    while True:\n",
    "        user_input = input(\"Your input: \")\n",
    "        \n",
    "        \n",
    "        if user_input.lower() == 'exit':\n",
    "            print(\"Exiting the sentiment analysis tool.\")\n",
    "            break\n",
    "        \n",
    "       \n",
    "        result = analyze_sentiment_and_suggest(user_input)\n",
    "        \n",
    "        \n",
    "        print(f\"Result:\\n{result}\\n\")\n",
    "\n",
    "\n",
    "\n",
    "main()"
   ]
  },
  {
   "cell_type": "code",
   "execution_count": null,
   "id": "01b3687a-5128-4377-8f1b-f99b22e9a2db",
   "metadata": {},
   "outputs": [],
   "source": []
  }
 ],
 "metadata": {
  "kernelspec": {
   "display_name": "Python 3 (ipykernel)",
   "language": "python",
   "name": "python3"
  },
  "language_info": {
   "codemirror_mode": {
    "name": "ipython",
    "version": 3
   },
   "file_extension": ".py",
   "mimetype": "text/x-python",
   "name": "python",
   "nbconvert_exporter": "python",
   "pygments_lexer": "ipython3",
   "version": "3.9.13"
  }
 },
 "nbformat": 4,
 "nbformat_minor": 5
}
